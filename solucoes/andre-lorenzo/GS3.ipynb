{
 "cells": [
  {
   "cell_type": "code",
   "execution_count": 69,
   "metadata": {},
   "outputs": [],
   "source": [
    "import numpy as np\n",
    "import pandas as pd\n",
    "import random"
   ]
  },
  {
   "cell_type": "code",
   "execution_count": 60,
   "metadata": {},
   "outputs": [],
   "source": [
    "v_con = [0,0,0,3,5,7,0,0,0]\n",
    "v_total = [1,2,3,4,5,6,7,8,9]"
   ]
  },
  {
   "cell_type": "code",
   "execution_count": 65,
   "metadata": {},
   "outputs": [],
   "source": [
    "def v_clean(v_con,v_total):\n",
    "    \n",
    "    a  = v_total\n",
    "    for i in v_total:\n",
    "        \n",
    "        for j in v_con:\n",
    "            \n",
    "            if j == i:\n",
    "                \n",
    "                a.remove(j)\n",
    "    \n",
    "    return a"
   ]
  },
  {
   "cell_type": "code",
   "execution_count": 66,
   "metadata": {},
   "outputs": [],
   "source": [
    "a = v_clean(v_con,v_total)"
   ]
  },
  {
   "cell_type": "code",
   "execution_count": 74,
   "metadata": {},
   "outputs": [
    {
     "data": {
      "text/plain": [
       "[9, 1, 2, 6, 4, 8]"
      ]
     },
     "execution_count": 74,
     "metadata": {},
     "output_type": "execute_result"
    }
   ],
   "source": [
    "random.shuffle(a)\n",
    "a"
   ]
  },
  {
   "cell_type": "code",
   "execution_count": 107,
   "metadata": {},
   "outputs": [],
   "source": [
    "def v_comp(v_con,v_clean):\n",
    "    \n",
    "    rnd.shuffle(v_clean)\n",
    "    b = 0\n",
    "    c = 0\n",
    "    d = []\n",
    "    \n",
    "    \n",
    "    for i in v_con:\n",
    "        \n",
    "        if i == 0:\n",
    "            \n",
    "            d.append(v_clean[c])\n",
    "            c += 1\n",
    "        \n",
    "            \n",
    "        if i != 0:\n",
    "            \n",
    "            d.append(v_con[c+b])\n",
    "            b += 1\n",
    "            \n",
    "    return d\n",
    "    "
   ]
  },
  {
   "cell_type": "code",
   "execution_count": 119,
   "metadata": {},
   "outputs": [],
   "source": [
    "b = v_comp(v_con,a)"
   ]
  },
  {
   "cell_type": "code",
   "execution_count": 116,
   "metadata": {},
   "outputs": [],
   "source": [
    "def v_to_num(v_comp,f):\n",
    "    \n",
    "    a = 0\n",
    "    \n",
    "    if f == 0:\n",
    "        c = 0\n",
    "        plus = 1\n",
    "    else:\n",
    "        c = 8\n",
    "        plus = -1\n",
    "        \n",
    "    for i in v_comp:\n",
    "        \n",
    "        a += i*(10**c)\n",
    "        c += plus\n",
    "        \n",
    "    return a"
   ]
  },
  {
   "cell_type": "code",
   "execution_count": 124,
   "metadata": {},
   "outputs": [
    {
     "data": {
      "text/plain": [
       "3"
      ]
     },
     "execution_count": 124,
     "metadata": {},
     "output_type": "execute_result"
    }
   ],
   "source": [
    "v_to_num(b,1) % 29"
   ]
  },
  {
   "cell_type": "code",
   "execution_count": 411,
   "metadata": {},
   "outputs": [],
   "source": [
    "v_con = [4,0,0,3,8,2,0,0,0]\n",
    "v_total = [1,2,3,4,5,6,7,8,9]\n",
    "esq = 2\n",
    "dire = 17"
   ]
  },
  {
   "cell_type": "code",
   "execution_count": 412,
   "metadata": {},
   "outputs": [
    {
     "name": "stdout",
     "output_type": "stream",
     "text": [
      "end\n"
     ]
    }
   ],
   "source": [
    "result = []\n",
    "\n",
    "for i in range(500000):\n",
    "    \n",
    "    \n",
    "    \n",
    "    a = v_clean(v_con,v_total)\n",
    "    b = v_comp(v_con,a)\n",
    "    c = v_to_num(b,1)\n",
    "    d = v_to_num(b,0)\n",
    "    \n",
    "    if c % esq == 0:\n",
    "        if d % dire == 0:\n",
    "            \n",
    "            result.append(c)\n",
    "    \n",
    "print(\"end\")"
   ]
  },
  {
   "cell_type": "code",
   "execution_count": 413,
   "metadata": {
    "scrolled": false
   },
   "outputs": [
    {
     "data": {
      "text/plain": [
       "[417382596, 479382156]"
      ]
     },
     "execution_count": 413,
     "metadata": {},
     "output_type": "execute_result"
    }
   ],
   "source": [
    "list(dict.fromkeys(result))"
   ]
  },
  {
   "cell_type": "code",
   "execution_count": null,
   "metadata": {},
   "outputs": [],
   "source": []
  },
  {
   "cell_type": "code",
   "execution_count": 418,
   "metadata": {},
   "outputs": [
    {
     "name": "stdout",
     "output_type": "stream",
     "text": [
      "5\n",
      "109\n"
     ]
    }
   ],
   "source": []
  },
  {
   "cell_type": "code",
   "execution_count": null,
   "metadata": {},
   "outputs": [],
   "source": []
  }
 ],
 "metadata": {
  "kernelspec": {
   "display_name": "Python 3",
   "language": "python",
   "name": "python3"
  },
  "language_info": {
   "codemirror_mode": {
    "name": "ipython",
    "version": 3
   },
   "file_extension": ".py",
   "mimetype": "text/x-python",
   "name": "python",
   "nbconvert_exporter": "python",
   "pygments_lexer": "ipython3",
   "version": "3.7.6"
  }
 },
 "nbformat": 4,
 "nbformat_minor": 4
}
